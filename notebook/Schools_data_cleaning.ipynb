{
  "nbformat": 4,
  "nbformat_minor": 0,
  "metadata": {
    "colab": {
      "name": "Schools_data_cleaning.ipynb",
      "provenance": [],
      "authorship_tag": "ABX9TyP8q3tAndbwpJKV4ulyid0R",
      "include_colab_link": true
    },
    "kernelspec": {
      "name": "python3",
      "display_name": "Python 3"
    },
    "language_info": {
      "name": "python"
    }
  },
  "cells": [
    {
      "cell_type": "markdown",
      "metadata": {
        "id": "view-in-github",
        "colab_type": "text"
      },
      "source": [
        "<a href=\"https://colab.research.google.com/github/AppCentralGroupDev/MR_Data_tools/blob/main/notebook/Schools_data_cleaning.ipynb\" target=\"_parent\"><img src=\"https://colab.research.google.com/assets/colab-badge.svg\" alt=\"Open In Colab\"/></a>"
      ]
    },
    {
      "cell_type": "code",
      "execution_count": null,
      "metadata": {
        "id": "WnotwdK30F1x"
      },
      "outputs": [],
      "source": [
        "# importing the required modules\n",
        "import glob\n",
        "import numpy as np \n",
        "import pandas as pd \n",
        "import matplotlib.pyplot as plt\n",
        "%matplotlib inline\n",
        "import seaborn as sns"
      ]
    },
    {
      "cell_type": "code",
      "source": [
        "# importing required modules\n",
        "from zipfile import ZipFile\n",
        "  \n",
        "# specifying the zip file name\n",
        "file_name = \"/content/schools in lagos.zip\"\n",
        "  \n",
        "# opening the zip file in READ mode\n",
        "with ZipFile(file_name, 'r') as zip:\n",
        "    # printing all the contents of the zip file\n",
        "    zip.printdir()\n",
        "  \n",
        "    # extracting all the files\n",
        "    print('Extracting all the files now...')\n",
        "    zip.extractall()\n",
        "    print('Done!')"
      ],
      "metadata": {
        "colab": {
          "base_uri": "https://localhost:8080/"
        },
        "id": "YLpb5Gl4eNcH",
        "outputId": "eeb1589e-7445-4d85-d2be-86c7b64f3922"
      },
      "execution_count": null,
      "outputs": [
        {
          "output_type": "stream",
          "name": "stdout",
          "text": [
            "File Name                                             Modified             Size\n",
            "schools in lagos/Ajah_Badore_schools.xlsx      2022-08-17 12:46:00        13025\n",
            "schools in lagos/Ajah_schools.xlsx             2022-08-17 12:46:00        12770\n",
            "schools in lagos/EPE_2_schools.xlsx            2022-08-17 12:46:00         8175\n",
            "schools in lagos/Epe_schools.xlsx              2022-08-17 12:46:00         8059\n",
            "schools in lagos/Ibeju_schools.xlsx            2022-08-17 12:46:00         9813\n",
            "schools in lagos/Lakowe_Bogije_schools.xlsx    2022-08-17 12:46:00         8652\n",
            "schools in lagos/lekki_2_schools.xlsx          2022-08-17 12:46:00         8880\n",
            "schools in lagos/lekki_schools.xlsx            2022-08-17 12:46:00        13086\n",
            "schools in lagos/schools_awoyaya.xlsx          2022-08-17 12:46:00        12651\n",
            "schools in lagos/schools_LBS_Sangotedo.xlsx    2022-08-17 12:46:00        13014\n",
            "schools in lagos/schools_VI_Ikoyi.xlsx         2022-08-17 12:46:00        12927\n",
            "Extracting all the files now...\n",
            "Done!\n"
          ]
        }
      ]
    },
    {
      "cell_type": "code",
      "source": [
        "# specifying the path to csv files\n",
        "path = \"/content/schools\"\n",
        " \n",
        "# csv files in the path\n",
        "file_list = glob.glob(path + \"/*.xlsx\")\n",
        " \n",
        "# list of excel files we want to merge.\n",
        "# pd.read_excel(file_path) reads the excel\n",
        "# data into pandas dataframe.\n",
        "excl_list = []\n",
        " \n",
        "for file in file_list:\n",
        "    excl_list.append(pd.read_excel(file))\n",
        " \n",
        "# create a new dataframe to store the\n",
        "# merged excel file.\n",
        "excl_merged = pd.DataFrame()\n",
        " \n",
        "for excl_file in excl_list:\n",
        "     \n",
        "    # appends the data into the excl_merged\n",
        "    # dataframe.\n",
        "    excl_merged = excl_merged.append(\n",
        "      excl_file, ignore_index=True)\n",
        " \n",
        "# exports the dataframe into excel file with\n",
        "# specified name.\n",
        "excl_merged.to_excel('Island_schools.xlsx', index=False)"
      ],
      "metadata": {
        "id": "rxVvCvSQ0frb"
      },
      "execution_count": null,
      "outputs": []
    },
    {
      "cell_type": "code",
      "source": [
        "excl_merged.info()"
      ],
      "metadata": {
        "colab": {
          "base_uri": "https://localhost:8080/"
        },
        "id": "EEBmGBKCetiW",
        "outputId": "f63f94fd-7d00-4698-cf19-86faff661aae"
      },
      "execution_count": null,
      "outputs": [
        {
          "output_type": "stream",
          "name": "stdout",
          "text": [
            "<class 'pandas.core.frame.DataFrame'>\n",
            "RangeIndex: 720 entries, 0 to 719\n",
            "Data columns (total 4 columns):\n",
            " #   Column                      Non-Null Count  Dtype \n",
            "---  ------                      --------------  ----- \n",
            " 0   formatted_address           720 non-null    object\n",
            " 1   international_phone_number  527 non-null    object\n",
            " 2   name                        720 non-null    object\n",
            " 3   website                     303 non-null    object\n",
            "dtypes: object(4)\n",
            "memory usage: 22.6+ KB\n"
          ]
        }
      ]
    },
    {
      "cell_type": "code",
      "source": [
        "excl_merged.head()\n"
      ],
      "metadata": {
        "colab": {
          "base_uri": "https://localhost:8080/",
          "height": 282
        },
        "id": "fwKKx6U5gtZa",
        "outputId": "b430f8b9-661d-4315-ecb8-898c04e75e12"
      },
      "execution_count": null,
      "outputs": [
        {
          "output_type": "execute_result",
          "data": {
            "text/plain": [
              "                                   formatted_address  \\\n",
              "0  Whiteoak school, Plot 118, Block15, Jasper Ike...   \n",
              "1  36 Rasheed Alaba Williams Street, lekki phase ...   \n",
              "2  Block 58, Plot 4 Akanni Bashorun St, Lekki Pha...   \n",
              "3  Phase 1, Plot No. 17 Henry Ojogho Cres, Lekki ...   \n",
              "4     54 Alexander Ave, Ikoyi 106104, Lagos, Nigeria   \n",
              "\n",
              "  international_phone_number                                      name  \\\n",
              "0          +234 704 631 0631               Whiteoak Preparatory School   \n",
              "1          +234 909 532 4061               Imperial Gate School, Lekki   \n",
              "2          +234 903 848 5768  Chidren's International Secondary School   \n",
              "3          +234 803 725 7169         Jasper Nursery And Primary School   \n",
              "4            +234 1 342 6946                St Saviour'S School, Ikoyi   \n",
              "\n",
              "                               website  \n",
              "0  http://www.whiteoakschoollagos.com/  \n",
              "1      https://imperialgateschool.com/  \n",
              "2             http://www.cislagos.com/  \n",
              "3                                  NaN  \n",
              "4                                  NaN  "
            ],
            "text/html": [
              "\n",
              "  <div id=\"df-15263c23-45b0-4b91-967a-c0acdb090956\">\n",
              "    <div class=\"colab-df-container\">\n",
              "      <div>\n",
              "<style scoped>\n",
              "    .dataframe tbody tr th:only-of-type {\n",
              "        vertical-align: middle;\n",
              "    }\n",
              "\n",
              "    .dataframe tbody tr th {\n",
              "        vertical-align: top;\n",
              "    }\n",
              "\n",
              "    .dataframe thead th {\n",
              "        text-align: right;\n",
              "    }\n",
              "</style>\n",
              "<table border=\"1\" class=\"dataframe\">\n",
              "  <thead>\n",
              "    <tr style=\"text-align: right;\">\n",
              "      <th></th>\n",
              "      <th>formatted_address</th>\n",
              "      <th>international_phone_number</th>\n",
              "      <th>name</th>\n",
              "      <th>website</th>\n",
              "    </tr>\n",
              "  </thead>\n",
              "  <tbody>\n",
              "    <tr>\n",
              "      <th>0</th>\n",
              "      <td>Whiteoak school, Plot 118, Block15, Jasper Ike...</td>\n",
              "      <td>+234 704 631 0631</td>\n",
              "      <td>Whiteoak Preparatory School</td>\n",
              "      <td>http://www.whiteoakschoollagos.com/</td>\n",
              "    </tr>\n",
              "    <tr>\n",
              "      <th>1</th>\n",
              "      <td>36 Rasheed Alaba Williams Street, lekki phase ...</td>\n",
              "      <td>+234 909 532 4061</td>\n",
              "      <td>Imperial Gate School, Lekki</td>\n",
              "      <td>https://imperialgateschool.com/</td>\n",
              "    </tr>\n",
              "    <tr>\n",
              "      <th>2</th>\n",
              "      <td>Block 58, Plot 4 Akanni Bashorun St, Lekki Pha...</td>\n",
              "      <td>+234 903 848 5768</td>\n",
              "      <td>Chidren's International Secondary School</td>\n",
              "      <td>http://www.cislagos.com/</td>\n",
              "    </tr>\n",
              "    <tr>\n",
              "      <th>3</th>\n",
              "      <td>Phase 1, Plot No. 17 Henry Ojogho Cres, Lekki ...</td>\n",
              "      <td>+234 803 725 7169</td>\n",
              "      <td>Jasper Nursery And Primary School</td>\n",
              "      <td>NaN</td>\n",
              "    </tr>\n",
              "    <tr>\n",
              "      <th>4</th>\n",
              "      <td>54 Alexander Ave, Ikoyi 106104, Lagos, Nigeria</td>\n",
              "      <td>+234 1 342 6946</td>\n",
              "      <td>St Saviour'S School, Ikoyi</td>\n",
              "      <td>NaN</td>\n",
              "    </tr>\n",
              "  </tbody>\n",
              "</table>\n",
              "</div>\n",
              "      <button class=\"colab-df-convert\" onclick=\"convertToInteractive('df-15263c23-45b0-4b91-967a-c0acdb090956')\"\n",
              "              title=\"Convert this dataframe to an interactive table.\"\n",
              "              style=\"display:none;\">\n",
              "        \n",
              "  <svg xmlns=\"http://www.w3.org/2000/svg\" height=\"24px\"viewBox=\"0 0 24 24\"\n",
              "       width=\"24px\">\n",
              "    <path d=\"M0 0h24v24H0V0z\" fill=\"none\"/>\n",
              "    <path d=\"M18.56 5.44l.94 2.06.94-2.06 2.06-.94-2.06-.94-.94-2.06-.94 2.06-2.06.94zm-11 1L8.5 8.5l.94-2.06 2.06-.94-2.06-.94L8.5 2.5l-.94 2.06-2.06.94zm10 10l.94 2.06.94-2.06 2.06-.94-2.06-.94-.94-2.06-.94 2.06-2.06.94z\"/><path d=\"M17.41 7.96l-1.37-1.37c-.4-.4-.92-.59-1.43-.59-.52 0-1.04.2-1.43.59L10.3 9.45l-7.72 7.72c-.78.78-.78 2.05 0 2.83L4 21.41c.39.39.9.59 1.41.59.51 0 1.02-.2 1.41-.59l7.78-7.78 2.81-2.81c.8-.78.8-2.07 0-2.86zM5.41 20L4 18.59l7.72-7.72 1.47 1.35L5.41 20z\"/>\n",
              "  </svg>\n",
              "      </button>\n",
              "      \n",
              "  <style>\n",
              "    .colab-df-container {\n",
              "      display:flex;\n",
              "      flex-wrap:wrap;\n",
              "      gap: 12px;\n",
              "    }\n",
              "\n",
              "    .colab-df-convert {\n",
              "      background-color: #E8F0FE;\n",
              "      border: none;\n",
              "      border-radius: 50%;\n",
              "      cursor: pointer;\n",
              "      display: none;\n",
              "      fill: #1967D2;\n",
              "      height: 32px;\n",
              "      padding: 0 0 0 0;\n",
              "      width: 32px;\n",
              "    }\n",
              "\n",
              "    .colab-df-convert:hover {\n",
              "      background-color: #E2EBFA;\n",
              "      box-shadow: 0px 1px 2px rgba(60, 64, 67, 0.3), 0px 1px 3px 1px rgba(60, 64, 67, 0.15);\n",
              "      fill: #174EA6;\n",
              "    }\n",
              "\n",
              "    [theme=dark] .colab-df-convert {\n",
              "      background-color: #3B4455;\n",
              "      fill: #D2E3FC;\n",
              "    }\n",
              "\n",
              "    [theme=dark] .colab-df-convert:hover {\n",
              "      background-color: #434B5C;\n",
              "      box-shadow: 0px 1px 3px 1px rgba(0, 0, 0, 0.15);\n",
              "      filter: drop-shadow(0px 1px 2px rgba(0, 0, 0, 0.3));\n",
              "      fill: #FFFFFF;\n",
              "    }\n",
              "  </style>\n",
              "\n",
              "      <script>\n",
              "        const buttonEl =\n",
              "          document.querySelector('#df-15263c23-45b0-4b91-967a-c0acdb090956 button.colab-df-convert');\n",
              "        buttonEl.style.display =\n",
              "          google.colab.kernel.accessAllowed ? 'block' : 'none';\n",
              "\n",
              "        async function convertToInteractive(key) {\n",
              "          const element = document.querySelector('#df-15263c23-45b0-4b91-967a-c0acdb090956');\n",
              "          const dataTable =\n",
              "            await google.colab.kernel.invokeFunction('convertToInteractive',\n",
              "                                                     [key], {});\n",
              "          if (!dataTable) return;\n",
              "\n",
              "          const docLinkHtml = 'Like what you see? Visit the ' +\n",
              "            '<a target=\"_blank\" href=https://colab.research.google.com/notebooks/data_table.ipynb>data table notebook</a>'\n",
              "            + ' to learn more about interactive tables.';\n",
              "          element.innerHTML = '';\n",
              "          dataTable['output_type'] = 'display_data';\n",
              "          await google.colab.output.renderOutput(dataTable, element);\n",
              "          const docLink = document.createElement('div');\n",
              "          docLink.innerHTML = docLinkHtml;\n",
              "          element.appendChild(docLink);\n",
              "        }\n",
              "      </script>\n",
              "    </div>\n",
              "  </div>\n",
              "  "
            ]
          },
          "metadata": {},
          "execution_count": 5
        }
      ]
    },
    {
      "cell_type": "code",
      "source": [
        "excl_merged.drop_duplicates(subset=\"name\", keep=False, inplace=True)"
      ],
      "metadata": {
        "id": "hh2cGkvSovjm"
      },
      "execution_count": null,
      "outputs": []
    },
    {
      "cell_type": "code",
      "source": [
        "excl_merged.info()"
      ],
      "metadata": {
        "colab": {
          "base_uri": "https://localhost:8080/"
        },
        "id": "4neDQPdPGW7Q",
        "outputId": "1d2a40ed-a112-4183-d638-f5c704c95e15"
      },
      "execution_count": null,
      "outputs": [
        {
          "output_type": "stream",
          "name": "stdout",
          "text": [
            "<class 'pandas.core.frame.DataFrame'>\n",
            "Int64Index: 272 entries, 0 to 597\n",
            "Data columns (total 4 columns):\n",
            " #   Column                      Non-Null Count  Dtype \n",
            "---  ------                      --------------  ----- \n",
            " 0   formatted_address           272 non-null    object\n",
            " 1   international_phone_number  172 non-null    object\n",
            " 2   name                        272 non-null    object\n",
            " 3   website                     99 non-null     object\n",
            "dtypes: object(4)\n",
            "memory usage: 10.6+ KB\n"
          ]
        }
      ]
    },
    {
      "cell_type": "code",
      "source": [
        "ec"
      ],
      "metadata": {
        "id": "V8KlOV9cGZrv"
      },
      "execution_count": null,
      "outputs": []
    }
  ]
}